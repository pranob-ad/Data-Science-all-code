{
 "cells": [
  {
   "cell_type": "code",
   "execution_count": 1,
   "id": "d21ed6cb",
   "metadata": {},
   "outputs": [
    {
     "name": "stdout",
     "output_type": "stream",
     "text": [
      "8\n"
     ]
    }
   ],
   "source": [
    "arr= [\n",
    "    [1,2,3],\n",
    "    [4,7,8],\n",
    "    2, 5, 8\n",
    "    ]\n",
    "print(arr[1][2])"
   ]
  },
  {
   "cell_type": "code",
   "execution_count": 2,
   "id": "1180bad4",
   "metadata": {},
   "outputs": [
    {
     "name": "stdout",
     "output_type": "stream",
     "text": [
      "       \n",
      "      &  \n",
      "     &  &  \n",
      "    &  &  &  \n",
      "   &  &  &  &  \n",
      "  &  &  &  &  &  \n"
     ]
    }
   ],
   "source": [
    "for i in range(1,7):\n",
    "    for j in range(7,0,-1):\n",
    "        if j>=i:print(\" \", end=\"\")\n",
    "        else:print(\"& \", end=\" \")\n",
    "    print()\n",
    "\n",
    "n = input(\"Please enter: \")"
   ]
  },
  {
   "cell_type": "code",
   "execution_count": 3,
   "id": "13367369",
   "metadata": {},
   "outputs": [
    {
     "name": "stdout",
     "output_type": "stream",
     "text": [
      "            $  \n",
      "          $  $  \n",
      "        $  $  $  \n",
      "      $  $  $  $  \n",
      "    $  $  $  $  $  \n",
      "  $  $  $  $  $  $  \n"
     ]
    }
   ],
   "source": [
    "for i in range(1,7):\n",
    "    for j in range(7,0,-1):\n",
    "        if j>i:\n",
    "            print(\"  \", end=\"\")\n",
    "        else :\n",
    "            print(\"$  \" , end=\"\")\n",
    "    print()"
   ]
  },
  {
   "cell_type": "code",
   "execution_count": 4,
   "id": "9981f59b",
   "metadata": {},
   "outputs": [
    {
     "name": "stdout",
     "output_type": "stream",
     "text": [
      "$  $  $  $  $  $  $  \n",
      "  $  $  $  $  $  $  \n",
      "    $  $  $  $  $  \n",
      "      $  $  $  $  \n",
      "        $  $  $  \n",
      "          $  $  \n",
      "            $  \n"
     ]
    }
   ],
   "source": [
    "for i in range(7,0,-1):\n",
    "    for j in range(7,0,-1):\n",
    "        if j>i:\n",
    "            print(\"  \", end=\"\")\n",
    "        else :\n",
    "            print(\"$  \" , end=\"\")\n",
    "    print()"
   ]
  }
 ],
 "metadata": {
  "kernelspec": {
   "display_name": ".venv",
   "language": "python",
   "name": "python3"
  },
  "language_info": {
   "codemirror_mode": {
    "name": "ipython",
    "version": 3
   },
   "file_extension": ".py",
   "mimetype": "text/x-python",
   "name": "python",
   "nbconvert_exporter": "python",
   "pygments_lexer": "ipython3",
   "version": "3.12.7"
  }
 },
 "nbformat": 4,
 "nbformat_minor": 5
}

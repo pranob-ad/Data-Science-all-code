{
 "cells": [
  {
   "cell_type": "code",
   "execution_count": 1,
   "id": "9d537ab8",
   "metadata": {},
   "outputs": [],
   "source": [
    "#Sample  data\n",
    "documents= [\n",
    "    \"I love machine learning\",\n",
    "    \"Machine learning is amazing\",\n",
    "    \"I hate bad customer service\",\n",
    "    \"Good customer service is important\"\n",
    "]\n",
    "\n",
    "labels= [\"positive\", \"positive\", \"negative\", \"positive\"]\n",
    "from sklearn.feature_extraction.text import CountVectorizer\n",
    "import pandas as pd"
   ]
  },
  {
   "cell_type": "code",
   "execution_count": 2,
   "id": "bdf386c5",
   "metadata": {},
   "outputs": [
    {
     "name": "stdout",
     "output_type": "stream",
     "text": [
      "Unigram Features:\n",
      "   amazing  bad  customer  good  hate  important  is  learning  love  machine  \\\n",
      "0        0    0         0     0     0          0   0         1     1        1   \n",
      "1        1    0         0     0     0          0   1         1     0        1   \n",
      "2        0    1         1     0     1          0   0         0     0        0   \n",
      "3        0    0         1     1     0          1   1         0     0        0   \n",
      "\n",
      "   service  \n",
      "0        0  \n",
      "1        0  \n",
      "2        1  \n",
      "3        1  \n"
     ]
    }
   ],
   "source": [
    "#Unigram(1,1)\n",
    "vectorizer_uni= CountVectorizer(ngram_range=(1,1))\n",
    "x_uni= vectorizer_uni.fit_transform(documents)\n",
    "\n",
    "#Convert to DataFrame for visualization\n",
    "df_uni= pd.DataFrame(x_uni.toarray(), columns=vectorizer_uni.get_feature_names_out())\n",
    "print(\"Unigram Features:\")\n",
    "print(df_uni)"
   ]
  },
  {
   "cell_type": "code",
   "execution_count": 3,
   "id": "e0eab4b7",
   "metadata": {},
   "outputs": [
    {
     "name": "stdout",
     "output_type": "stream",
     "text": [
      "Bigram Features:\n",
      "   bad customer  customer service  good customer  hate bad  is amazing  \\\n",
      "0             0                 0              0         0           0   \n",
      "1             0                 0              0         0           1   \n",
      "2             1                 1              0         1           0   \n",
      "3             0                 1              1         0           0   \n",
      "\n",
      "   is important  learning is  love machine  machine learning  service is  \n",
      "0             0            0             1                 1           0  \n",
      "1             0            1             0                 1           0  \n",
      "2             0            0             0                 0           0  \n",
      "3             1            0             0                 0           1  \n"
     ]
    }
   ],
   "source": [
    "#Bigram(1,1)\n",
    "vectorizer_bi= CountVectorizer(ngram_range=(2,2))\n",
    "x_bi= vectorizer_bi.fit_transform(documents)\n",
    "\n",
    "#Convert to DataFrame for visualization\n",
    "df_bi= pd.DataFrame(x_bi.toarray(), columns=vectorizer_bi.get_feature_names_out())\n",
    "print(\"Bigram Features:\")\n",
    "print(df_bi)"
   ]
  }
 ],
 "metadata": {
  "kernelspec": {
   "display_name": ".venv",
   "language": "python",
   "name": "python3"
  },
  "language_info": {
   "codemirror_mode": {
    "name": "ipython",
    "version": 3
   },
   "file_extension": ".py",
   "mimetype": "text/x-python",
   "name": "python",
   "nbconvert_exporter": "python",
   "pygments_lexer": "ipython3",
   "version": "3.12.7"
  }
 },
 "nbformat": 4,
 "nbformat_minor": 5
}
